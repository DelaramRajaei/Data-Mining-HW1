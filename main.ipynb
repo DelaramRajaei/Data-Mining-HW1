{
 "cells": [
  {
   "cell_type": "markdown",
   "metadata": {},
   "source": [
    "<span style=\"color:#46B4DD\">Start)</span>\n",
    "Loading the given data using pandas library."
   ]
  },
  {
   "cell_type": "code",
   "execution_count": 1,
   "metadata": {},
   "outputs": [],
   "source": [
    "import pandas as pd \n",
    "\n",
    "dataset_path = \"./iris.data\"\n",
    "df = pd.read_csv(dataset_path, names=['sepal_length','sepal_width','petal_length','petal_width','target'])"
   ]
  },
  {
   "cell_type": "markdown",
   "metadata": {},
   "source": [
    "<span style=\"color:#46B4DD\">Q1)</span>\n",
    "Checking for NaN values in each feature."
   ]
  },
  {
   "cell_type": "code",
   "execution_count": 2,
   "metadata": {},
   "outputs": [
    {
     "name": "stdout",
     "output_type": "stream",
     "text": [
      "The number of missing data in sepal_length is 2.\n",
      "\n",
      "     sepal_length  sepal_width  petal_length  petal_width           target\n",
      "73            NaN          2.2           4.5          1.5  Iris-versicolor\n",
      "143           NaN          3.0           6.1          2.3   Iris-virginica\n"
     ]
    }
   ],
   "source": [
    "sepal_length_NaN = df[df['sepal_length'].isna()]\n",
    "print(f\"The number of missing data in sepal_length is {len(sepal_length_NaN)}.\\n\")\n",
    "print(sepal_length_NaN)\n"
   ]
  },
  {
   "cell_type": "code",
   "execution_count": 3,
   "metadata": {},
   "outputs": [
    {
     "name": "stdout",
     "output_type": "stream",
     "text": [
      "The number of missing data in sepal_width is 0.\n",
      "\n",
      "Empty DataFrame\n",
      "Columns: [sepal_length, sepal_width, petal_length, petal_width, target]\n",
      "Index: []\n"
     ]
    }
   ],
   "source": [
    "sepal_width_NaN = df[df['sepal_width'].isna()]\n",
    "print(f\"The number of missing data in sepal_width is {len(sepal_width_NaN)}.\\n\")\n",
    "print(sepal_width_NaN)"
   ]
  },
  {
   "cell_type": "code",
   "execution_count": 4,
   "metadata": {},
   "outputs": [
    {
     "name": "stdout",
     "output_type": "stream",
     "text": [
      "The number of missing data in petal_length is 2.\n",
      "\n",
      "    sepal_length  sepal_width  petal_length  petal_width           target\n",
      "20           5.4          3.9           NaN          1.7      Iris-setosa\n",
      "87           5.5          2.4           NaN          NaN  Iris-versicolor\n"
     ]
    }
   ],
   "source": [
    "petal_length_NaN = df[df['petal_length'].isna()]\n",
    "print(f\"The number of missing data in petal_length is {len(petal_length_NaN)}.\\n\")\n",
    "print(petal_length_NaN)"
   ]
  },
  {
   "cell_type": "code",
   "execution_count": 5,
   "metadata": {},
   "outputs": [
    {
     "name": "stdout",
     "output_type": "stream",
     "text": [
      "The number of missing data in petal_width is 3.\n",
      "\n",
      "    sepal_length  sepal_width  petal_length  petal_width           target\n",
      "6            5.4          3.9           1.7          NaN      Iris-setosa\n",
      "27           5.0          3.0           1.6          NaN      Iris-setosa\n",
      "87           5.5          2.4           NaN          NaN  Iris-versicolor\n"
     ]
    }
   ],
   "source": [
    "petal_width_NaN = df[df['petal_width'].isna()]\n",
    "print(f\"The number of missing data in petal_width is {len(petal_width_NaN)}.\\n\")\n",
    "print(petal_width_NaN)"
   ]
  },
  {
   "cell_type": "code",
   "execution_count": 6,
   "metadata": {},
   "outputs": [
    {
     "name": "stdout",
     "output_type": "stream",
     "text": [
      "The number of missing data in target is 3.\n",
      "\n",
      "     sepal_length  sepal_width  petal_length  petal_width target\n",
      "60            6.3          3.3           4.7          1.6    NaN\n",
      "139           6.2          3.4           5.4          2.0    NaN\n",
      "156           6.5          3.0           5.2          2.0    NaN\n"
     ]
    }
   ],
   "source": [
    "target_NaN = df[df['target'].isna()]\n",
    "print(f\"The number of missing data in target is {len(target_NaN)}.\\n\")\n",
    "print(target_NaN)"
   ]
  },
  {
   "cell_type": "markdown",
   "metadata": {},
   "source": [
    "<span style=\"color:#46B4DD\">Q2)</span>\n",
    "Delete the NaN values from data set."
   ]
  },
  {
   "cell_type": "code",
   "execution_count": 7,
   "metadata": {},
   "outputs": [
    {
     "name": "stdout",
     "output_type": "stream",
     "text": [
      "The number of missing data in sepal_length is 0\n",
      "The number of missing data in sepal_width is 0\n",
      "The number of missing data in petal_length is 0\n",
      "The number of missing data in petal_width is 0\n",
      "The number of missing data in target is 0\n"
     ]
    }
   ],
   "source": [
    "df = df.dropna()\n",
    "print(f\"The number of missing data in sepal_length is {len(df[df['sepal_length'].isna()])}\")\n",
    "print(f\"The number of missing data in sepal_width is {len(df[df['sepal_width'].isna()])}\")\n",
    "print(f\"The number of missing data in petal_length is {len(df[df['petal_length'].isna()])}\")\n",
    "print(f\"The number of missing data in petal_width is {len(df[df['petal_width'].isna()])}\")\n",
    "print(f\"The number of missing data in target is {len(df[df['target'].isna()])}\")"
   ]
  },
  {
   "cell_type": "markdown",
   "metadata": {},
   "source": [
    "<span style=\"color:#46B4DD\">Q3)</span>\n",
    "Label Encoding"
   ]
  },
  {
   "cell_type": "code",
   "execution_count": 8,
   "metadata": {},
   "outputs": [],
   "source": [
    "from sklearn import preprocessing\n",
    "\n",
    "le = preprocessing.LabelEncoder()\n",
    "le.fit([\"Iris-setosa\", \"Iris-versicolor\", \"Iris-virginica\"])\n",
    "\n",
    "label_encoded_df = df.copy()\n",
    "\n",
    "label_encoded_df['target'] = le.transform(df['target'].values)"
   ]
  },
  {
   "cell_type": "markdown",
   "metadata": {},
   "source": [
    "Testing ..."
   ]
  },
  {
   "cell_type": "code",
   "execution_count": 9,
   "metadata": {},
   "outputs": [
    {
     "name": "stdout",
     "output_type": "stream",
     "text": [
      "Before using label encoding: Iris-setosa\n",
      "After using label encoding: 0\n",
      "\n",
      "Before using label encoding: Iris-versicolor\n",
      "After using label encoding: 1\n",
      "\n",
      "Before using label encoding: Iris-virginica\n",
      "After using label encoding: 2\n",
      "\n"
     ]
    }
   ],
   "source": [
    "print(f\"Before using label encoding: {df['target'][0]}\")\n",
    "print(f\"After using label encoding: {label_encoded_df['target'][0]}\\n\")\n",
    "\n",
    "print(f\"Before using label encoding: {df['target'][71]}\")\n",
    "print(f\"After using label encoding: {label_encoded_df['target'][71]}\\n\")\n",
    "\n",
    "print(f\"Before using label encoding: {df['target'][111]}\")\n",
    "print(f\"After using label encoding: {label_encoded_df['target'][111]}\\n\")"
   ]
  },
  {
   "cell_type": "markdown",
   "metadata": {},
   "source": [
    "<span style=\"color:#46B4DD\">Q5)</span>\n",
    "Variance and Average"
   ]
  },
  {
   "cell_type": "code",
   "execution_count": 10,
   "metadata": {},
   "outputs": [
    {
     "name": "stdout",
     "output_type": "stream",
     "text": [
      "     sepal_length  sepal_width  petal_length  petal_width          target\n",
      "0             5.1          3.5           1.4          0.2     Iris-setosa\n",
      "1             4.9          3.0           1.4          0.2     Iris-setosa\n",
      "2             4.7          3.2           1.3          0.2     Iris-setosa\n",
      "3             4.6          3.1           1.5          0.2     Iris-setosa\n",
      "4             5.0          3.6           1.4          0.2     Iris-setosa\n",
      "..            ...          ...           ...          ...             ...\n",
      "153           6.7          3.0           5.2          2.3  Iris-virginica\n",
      "154           6.3          2.5           5.0          1.9  Iris-virginica\n",
      "155           6.5          3.0           5.2          2.0  Iris-virginica\n",
      "157           6.2          3.4           5.4          2.3  Iris-virginica\n",
      "158           5.9          3.0           5.1          1.8  Iris-virginica\n",
      "\n",
      "[150 rows x 5 columns]\n",
      "     sepal_length  sepal_width  petal_length  petal_width  target\n",
      "0       -0.900681     1.032057     -1.341272    -1.312977       0\n",
      "1       -1.143017    -0.124958     -1.341272    -1.312977       0\n",
      "2       -1.385353     0.337848     -1.398138    -1.312977       0\n",
      "3       -1.506521     0.106445     -1.284407    -1.312977       0\n",
      "4       -1.021849     1.263460     -1.341272    -1.312977       0\n",
      "..            ...          ...           ...          ...     ...\n",
      "153      1.038005    -0.124958      0.819624     1.447956       2\n",
      "154      0.553333    -1.281972      0.705893     0.922064       2\n",
      "155      0.795669    -0.124958      0.819624     1.053537       2\n",
      "157      0.432165     0.800654      0.933356     1.447956       2\n",
      "158      0.068662    -0.124958      0.762759     0.790591       2\n",
      "\n",
      "[150 rows x 5 columns]\n"
     ]
    }
   ],
   "source": [
    "from sklearn.preprocessing import StandardScaler\n",
    "\n",
    "scaler = StandardScaler()\n",
    "scaler.fit(df.loc[:,df.columns != 'target'])\n",
    "\n",
    "normalized_df = label_encoded_df.copy()\n",
    "\n",
    "normalized_df.loc[:, normalized_df.columns != 'target'] = scaler.fit_transform(df.loc[:,df.columns != 'target'])\n",
    "\n",
    "print(df)\n",
    "print(normalized_df)\n"
   ]
  },
  {
   "cell_type": "code",
   "execution_count": 11,
   "metadata": {},
   "outputs": [
    {
     "name": "stdout",
     "output_type": "stream",
     "text": [
      "Average before normalization:\n",
      "sepal_length    5.843333\n",
      "sepal_width     3.054000\n",
      "petal_length    3.758667\n",
      "petal_width     1.198667\n",
      "dtype: float64\n",
      "\n",
      "Average after normalization:\n",
      "sepal_length   -4.736952e-16\n",
      "sepal_width    -6.631732e-16\n",
      "petal_length    3.315866e-16\n",
      "petal_width    -2.842171e-16\n",
      "dtype: float64\n",
      "\n",
      "Variance before normalization:\n",
      "sepal_length    0.685694\n",
      "sepal_width     0.188004\n",
      "petal_length    3.113179\n",
      "petal_width     0.582414\n",
      "dtype: float64\n",
      "\n",
      "Variance after normalization:\n",
      "sepal_length    1.006711\n",
      "sepal_width     1.006711\n",
      "petal_length    1.006711\n",
      "petal_width     1.006711\n",
      "dtype: float64\n"
     ]
    }
   ],
   "source": [
    "old_mean = df.loc[:,df.columns != 'target'].mean()\n",
    "old_var = df.loc[:,df.columns != 'target'].var()\n",
    "\n",
    "new_mean = normalized_df.loc[:,normalized_df.columns != 'target'].mean()\n",
    "new_var = normalized_df.loc[:,normalized_df.columns != 'target'].var()\n",
    "\n",
    "print(f\"Average before normalization:\\n{old_mean}\\n\")\n",
    "print(f\"Average after normalization:\\n{new_mean}\\n\")\n",
    "\n",
    "print(f\"Variance before normalization:\\n{old_var}\\n\")\n",
    "print(f\"Variance after normalization:\\n{new_var}\")"
   ]
  },
  {
   "cell_type": "markdown",
   "metadata": {},
   "source": [
    "<span style=\"color:#46B4DD\">Q6)</span>\n",
    "Decomposition"
   ]
  },
  {
   "cell_type": "code",
   "execution_count": 12,
   "metadata": {},
   "outputs": [
    {
     "data": {
      "text/html": [
       "<div>\n",
       "<style scoped>\n",
       "    .dataframe tbody tr th:only-of-type {\n",
       "        vertical-align: middle;\n",
       "    }\n",
       "\n",
       "    .dataframe tbody tr th {\n",
       "        vertical-align: top;\n",
       "    }\n",
       "\n",
       "    .dataframe thead th {\n",
       "        text-align: right;\n",
       "    }\n",
       "</style>\n",
       "<table border=\"1\" class=\"dataframe\">\n",
       "  <thead>\n",
       "    <tr style=\"text-align: right;\">\n",
       "      <th></th>\n",
       "      <th>First_Dimention</th>\n",
       "      <th>Second_Dimention</th>\n",
       "      <th>target</th>\n",
       "    </tr>\n",
       "  </thead>\n",
       "  <tbody>\n",
       "    <tr>\n",
       "      <th>0</th>\n",
       "      <td>-2.264542</td>\n",
       "      <td>0.505704</td>\n",
       "      <td>0.0</td>\n",
       "    </tr>\n",
       "    <tr>\n",
       "      <th>1</th>\n",
       "      <td>-2.086426</td>\n",
       "      <td>-0.655405</td>\n",
       "      <td>0.0</td>\n",
       "    </tr>\n",
       "    <tr>\n",
       "      <th>2</th>\n",
       "      <td>-2.367950</td>\n",
       "      <td>-0.318477</td>\n",
       "      <td>0.0</td>\n",
       "    </tr>\n",
       "    <tr>\n",
       "      <th>3</th>\n",
       "      <td>-2.304197</td>\n",
       "      <td>-0.575368</td>\n",
       "      <td>0.0</td>\n",
       "    </tr>\n",
       "    <tr>\n",
       "      <th>4</th>\n",
       "      <td>-2.388777</td>\n",
       "      <td>0.674767</td>\n",
       "      <td>0.0</td>\n",
       "    </tr>\n",
       "    <tr>\n",
       "      <th>...</th>\n",
       "      <td>...</td>\n",
       "      <td>...</td>\n",
       "      <td>...</td>\n",
       "    </tr>\n",
       "    <tr>\n",
       "      <th>145</th>\n",
       "      <td>1.870522</td>\n",
       "      <td>0.382822</td>\n",
       "      <td>2.0</td>\n",
       "    </tr>\n",
       "    <tr>\n",
       "      <th>146</th>\n",
       "      <td>1.558492</td>\n",
       "      <td>-0.905314</td>\n",
       "      <td>2.0</td>\n",
       "    </tr>\n",
       "    <tr>\n",
       "      <th>147</th>\n",
       "      <td>1.520845</td>\n",
       "      <td>0.266795</td>\n",
       "      <td>2.0</td>\n",
       "    </tr>\n",
       "    <tr>\n",
       "      <th>148</th>\n",
       "      <td>1.376391</td>\n",
       "      <td>1.016362</td>\n",
       "      <td>2.0</td>\n",
       "    </tr>\n",
       "    <tr>\n",
       "      <th>149</th>\n",
       "      <td>0.959299</td>\n",
       "      <td>-0.022284</td>\n",
       "      <td>2.0</td>\n",
       "    </tr>\n",
       "  </tbody>\n",
       "</table>\n",
       "<p>150 rows × 3 columns</p>\n",
       "</div>"
      ],
      "text/plain": [
       "     First_Dimention  Second_Dimention  target\n",
       "0          -2.264542          0.505704     0.0\n",
       "1          -2.086426         -0.655405     0.0\n",
       "2          -2.367950         -0.318477     0.0\n",
       "3          -2.304197         -0.575368     0.0\n",
       "4          -2.388777          0.674767     0.0\n",
       "..               ...               ...     ...\n",
       "145         1.870522          0.382822     2.0\n",
       "146         1.558492         -0.905314     2.0\n",
       "147         1.520845          0.266795     2.0\n",
       "148         1.376391          1.016362     2.0\n",
       "149         0.959299         -0.022284     2.0\n",
       "\n",
       "[150 rows x 3 columns]"
      ]
     },
     "execution_count": 12,
     "metadata": {},
     "output_type": "execute_result"
    }
   ],
   "source": [
    "from sklearn.decomposition import PCA\n",
    "\n",
    "reduced_features = pd.DataFrame(data = PCA(n_components=2).fit_transform(normalized_df.iloc[:, :4])  ,columns = ['First_Dimention', 'Second_Dimention'])\n",
    "reduced_dfa = reduced_features.join(normalized_df[['target']], lsuffix=\"_left\", rsuffix=\"_right\")\n",
    "\n",
    "reduced_dfa"
   ]
  },
  {
   "cell_type": "markdown",
   "metadata": {},
   "source": [
    "<span style=\"color:#46B4DD\">Q7)</span>\n",
    "Plotting"
   ]
  },
  {
   "cell_type": "code",
   "execution_count": 13,
   "metadata": {},
   "outputs": [
    {
     "data": {
      "image/png": "[encoded data removed]",
      "text/plain": [
       "<Figure size 432x288 with 1 Axes>"
      ]
     },
     "metadata": {
      "needs_background": "light"
     },
     "output_type": "display_data"
    }
   ],
   "source": [
    "import matplotlib.pyplot as plt\n",
    "import numpy as np\n",
    "\n",
    "color1=(1.0, 0.7, 0.1, 1.0)\n",
    "color2=(1.0, 0.0, 0.2, 1.0)\n",
    "color3=(0.2, 0.6, 0.9, 1.0)\n",
    "colormap = np.array([color1, color2, color3])\n",
    "\n",
    "plt.scatter(reduced_features.values[:, 0], reduced_features.values[:, 1], c=colormap[normalized_df[['target']]])\n",
    "plt.xlabel('First_Dimention')\n",
    "plt.ylabel('Second_Dimention')\n",
    "plt.show()\n",
    "\n",
    "\n"
   ]
  },
  {
   "cell_type": "code",
   "execution_count": 14,
   "metadata": {},
   "outputs": [
    {
     "data": {
      "image/png": "[encoded data removed]",
      "text/plain": [
       "<Figure size 432x288 with 1 Axes>"
      ]
     },
     "metadata": {
      "needs_background": "light"
     },
     "output_type": "display_data"
    }
   ],
   "source": [
    "box = plt.boxplot(normalized_df.loc[:,df.columns != 'target'], patch_artist=True)\n",
    "\n",
    "colors = ['green', 'lightGreen', 'lightBlue', 'blue']\n",
    "\n",
    "for patch, color in zip(box['boxes'], colors):\n",
    "    patch.set_facecolor(color)\n",
    "\n",
    "plt.xticks([1, 2, 3, 4], ['sepal_length','sepal_width','petal_length','petal_width'])\n",
    "plt.show()"
   ]
  }
 ],
 "metadata": {
  "interpreter": {
   "hash": "7be3f66dc383b80e1dc0782a065a1a54fa6317add21e523f988ecf41f4beab2c"
  },
  "kernelspec": {
   "display_name": "Python 3.9.6 64-bit",
   "language": "python",
   "name": "python3"
  },
  "language_info": {
   "codemirror_mode": {
    "name": "ipython",
    "version": 3
   },
   "file_extension": ".py",
   "mimetype": "text/x-python",
   "name": "python",
   "nbconvert_exporter": "python",
   "pygments_lexer": "ipython3",
   "version": "3.9.6"
  },
  "orig_nbformat": 4
 },
 "nbformat": 4,
 "nbformat_minor": 2
}
